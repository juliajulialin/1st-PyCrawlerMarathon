{
 "cells": [
  {
   "cell_type": "markdown",
   "metadata": {},
   "source": [
    "作業目標\n",
    "1.（簡答題）檔案、API、爬蟲三種取得資料方式有什麼不同？\n",
    "2.（實作）完成一個程式，需滿足下列需求：\n",
    "下載指定檔案到 Data 資料夾，存成檔名 Homework.txt\n",
    "檢查 Data 資料夾是否有 Homework.txt 檔名之檔案\n",
    "將「Hello World」字串覆寫到 Homework.txt 檔案\n",
    "檢查 Homework.txt 檔案字數是否符合 Hello World 字數"
   ]
  },
  {
   "cell_type": "markdown",
   "metadata": {},
   "source": [
    "檔案：資料可以直接下載\n",
    "API：可以選擇要下載的資料\n",
    "爬蟲：直接從網頁上抓"
   ]
  },
  {
   "cell_type": "code",
   "execution_count": 5,
   "metadata": {},
   "outputs": [
    {
     "name": "stdout",
     "output_type": "stream",
     "text": [
      "Homework.txt\n",
      "字數一樣\n"
     ]
    }
   ],
   "source": [
    "from urllib.request import urlretrieve\n",
    "import os, sys\n",
    "\n",
    "urlretrieve (\"https://www.w3.org/TR/PNG/iso_8859-1.txt\", \"./Data/Homework.txt\")\n",
    "\n",
    "# 打開文件（預設位置會是跟 .ipynb 程式相同的目錄）\n",
    "dirs = os.listdir( './Data/' )\n",
    "\n",
    "# 顯示所有文件\n",
    "for file in dirs:\n",
    "    print(file)\n",
    "    \n",
    "fh = open(\"./Data/Homework.txt\", \"w\")\n",
    "f = fh.write(\"Hello World\")\n",
    "fh.close()\n",
    "\n",
    "fh = open(\"./Data/Homework.txt\", \"r\")\n",
    "wordcount = len(fh.read())\n",
    "fh.close()\n",
    "\n",
    "if wordcount == len('Hello World'):\n",
    "    print ('字數一樣')\n",
    "else:\n",
    "    print ('字數不一樣')"
   ]
  },
  {
   "cell_type": "code",
   "execution_count": null,
   "metadata": {},
   "outputs": [],
   "source": []
  }
 ],
 "metadata": {
  "kernelspec": {
   "display_name": "Python 3",
   "language": "python",
   "name": "python3"
  },
  "language_info": {
   "codemirror_mode": {
    "name": "ipython",
    "version": 3
   },
   "file_extension": ".py",
   "mimetype": "text/x-python",
   "name": "python",
   "nbconvert_exporter": "python",
   "pygments_lexer": "ipython3",
   "version": "3.7.4"
  }
 },
 "nbformat": 4,
 "nbformat_minor": 2
}
